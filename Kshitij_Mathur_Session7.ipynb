{
  "nbformat": 4,
  "nbformat_minor": 0,
  "metadata": {
    "colab": {
      "name": "Kshitij_Mathur_Session7.ipynb",
      "version": "0.3.2",
      "provenance": []
    },
    "kernelspec": {
      "name": "python3",
      "display_name": "Python 3"
    }
  },
  "cells": [
    {
      "cell_type": "markdown",
      "metadata": {
        "id": "view-in-github",
        "colab_type": "text"
      },
      "source": [
        "[View in Colaboratory](https://colab.research.google.com/github/mathurk29/Deep-Learning/blob/master/Kshitij_Mathur_Session7.ipynb)"
      ]
    },
    {
      "metadata": {
        "id": "yeSJUjMuPtpu",
        "colab_type": "text"
      },
      "cell_type": "markdown",
      "source": [
        "## Introduction\n",
        "\n",
        "Generative Adversarial Networks (GAN) is one of the most promising recent developments in Deep Learning. GAN, introduced by Ian Goodfellow in 2014, attacks the problem of unsupervised learning by training two deep networks, called Generator and Discriminator, that compete and cooperate with each other. In the course of training, both networks eventually learn how to perform their tasks."
      ]
    },
    {
      "metadata": {
        "id": "tocY0QprPxJy",
        "colab_type": "text"
      },
      "cell_type": "markdown",
      "source": [
        "![alt text](https://cdn-images-1.medium.com/max/800/1*N4oqJsGmH-KZg3Vqrm_uYw.jpeg)"
      ]
    },
    {
      "metadata": {
        "id": "4i7qgKvPQvMW",
        "colab_type": "text"
      },
      "cell_type": "markdown",
      "source": [
        "To get a nice intuition consider it this way. \n",
        "\n",
        "Frank Abagale is a counterfiet artist. He knows how to make fake cheques. (Yes! That's from the movie - Catch me if You Can).\n",
        "\n",
        "Frank makes a fake cheque and show it to FBI. The FBI identifies it as a fake and tell Frank how they identified that. Our hero now improvises with the new little info and creates another fake. The FBI again identifies it's fakeness and tells Frank how they identified it. \n",
        "\n",
        "*This process of improving and providing feedback keeps going on untill Frank successfully fools the FBI by making a perfect counterfeit!*"
      ]
    },
    {
      "metadata": {
        "id": "72j5H70QaIIA",
        "colab_type": "text"
      },
      "cell_type": "markdown",
      "source": [
        "**Let's take each block one by one.**"
      ]
    },
    {
      "metadata": {
        "id": "S3peesDEZ9N0",
        "colab_type": "text"
      },
      "cell_type": "markdown",
      "source": [
        "# The Generator\n",
        "\n",
        "The generator aims at reproducing sharp images. The network is based on ResNet blocks. It keeps track of the evolutions applied to the original blurred image"
      ]
    },
    {
      "metadata": {
        "id": "K08JZ4pdadLm",
        "colab_type": "text"
      },
      "cell_type": "markdown",
      "source": [
        "![alt text](https://cdn-images-1.medium.com/max/1000/1*OhuvC1YUdHyLbGO6rWWHhA.png)"
      ]
    },
    {
      "metadata": {
        "id": "7Y7JzOnyaipI",
        "colab_type": "text"
      },
      "cell_type": "markdown",
      "source": [
        "The core is 9 ResNet blocks applied to an upsampling of the original image. A ResNet block is defined as shown below."
      ]
    },
    {
      "metadata": {
        "id": "g-xxMu7kafwu",
        "colab_type": "code",
        "colab": {}
      },
      "cell_type": "code",
      "source": [
        "#@title ResNet block\n",
        "def res_block(input, filters, kernel_size=(3, 3), strides=(1, 1), use_dropout=False):\n",
        "    \"\"\"\n",
        "    Instanciate a Keras Resnet Block using sequential API.\n",
        "    :param input: Input tensor\n",
        "    :param filters: Number of filters to use\n",
        "    :param kernel_size: Shape of the kernel for the convolution\n",
        "    :param strides: Shape of the strides for the convolution\n",
        "    :param use_dropout: Boolean value to determine the use of dropout\n",
        "    :return: Keras Model\n",
        "    \"\"\"\n",
        "    x = ReflectionPadding2D((1, 1))(input)\n",
        "    x = Conv2D(filters=filters,\n",
        "               kernel_size=kernel_size,\n",
        "               strides=strides,)(x)\n",
        "    x = BatchNormalization()(x)\n",
        "    x = Activation('relu')(x)\n",
        "\n",
        "    if use_dropout:\n",
        "        x = Dropout(0.5)(x)\n",
        "\n",
        "    x = ReflectionPadding2D((1, 1))(x)\n",
        "    x = Conv2D(filters=filters,\n",
        "               kernel_size=kernel_size,\n",
        "               strides=strides,)(x)\n",
        "    x = BatchNormalization()(x)\n",
        "\n",
        "    merged = Add()([input, x])\n",
        "    return merged\n"
      ],
      "execution_count": 0,
      "outputs": []
    }
  ]
}